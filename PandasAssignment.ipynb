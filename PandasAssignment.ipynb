{
  "nbformat": 4,
  "nbformat_minor": 0,
  "metadata": {
    "colab": {
      "name": "PandasAssignment.ipynb",
      "provenance": []
    },
    "kernelspec": {
      "name": "python3",
      "display_name": "Python 3"
    },
    "language_info": {
      "name": "python"
    }
  },
  "cells": [
    {
      "cell_type": "markdown",
      "source": [
        "Name : Mohan  Email : mohandongara@gmail.com"
      ],
      "metadata": {
        "id": "-56TlvAiUUcx"
      }
    },
    {
      "cell_type": "code",
      "source": [
        "import pandas as pd"
      ],
      "metadata": {
        "id": "5tuAXguJVpTL"
      },
      "execution_count": 1,
      "outputs": []
    },
    {
      "cell_type": "code",
      "source": [
        "#MINI CHALLENGE 1\n",
        "portfolio_df  = pd.DataFrame({\n",
        "    \"Stock Symbols\" :[\"Tesla\",\"Apple\",\"Meta\"],\n",
        "    \"Number Of Shares\" : [200,100,125],\n",
        "    \"Price Per Share\" : [883,169,178]\n",
        "})\n",
        "\n",
        "print(portfolio_df)\n",
        "\n",
        "portfolio_df['total value']=portfolio_df['Number Of Shares']*portfolio_df['Price Per Share']\n",
        "print(portfolio_df)\n",
        "print(\"Total Portfolio Value :\",portfolio_df['total value'].sum())\n"
      ],
      "metadata": {
        "colab": {
          "base_uri": "https://localhost:8080/"
        },
        "id": "kUq5AN6bUaFk",
        "outputId": "affcc501-b98f-47e1-898f-20bab74106e8"
      },
      "execution_count": 2,
      "outputs": [
        {
          "output_type": "stream",
          "name": "stdout",
          "text": [
            "  Stock Symbols  Number Of Shares  Price Per Share\n",
            "0         Tesla               200              883\n",
            "1         Apple               100              169\n",
            "2          Meta               125              178\n",
            "  Stock Symbols  Number Of Shares  Price Per Share  total value\n",
            "0         Tesla               200              883       176600\n",
            "1         Apple               100              169        16900\n",
            "2          Meta               125              178        22250\n",
            "Total Portfolio Value : 215750\n"
          ]
        }
      ]
    },
    {
      "cell_type": "code",
      "source": [
        "bank_client_df = pd.DataFrame({'Bank client ID':[111, 222, 333, 444], \n",
        "                               'Bank Client Name':['Sid', 'Sanjeev', 'Neha', 'Sreeja'], \n",
        "                               'Net worth [Rs]':[3500, 29000, 10000, 2000], \n",
        "                               'Years with bank':[3, 4, 9, 5]})"
      ],
      "metadata": {
        "id": "ufjMp5O9WqtK"
      },
      "execution_count": 3,
      "outputs": []
    },
    {
      "cell_type": "code",
      "source": [
        "#MINI CHALLENGE 2\n",
        "netWorthAbove = bank_client_df[bank_client_df['Net worth [Rs]']>=5000]\n",
        "print(netWorthAbove['Net worth [Rs]'].sum())"
      ],
      "metadata": {
        "colab": {
          "base_uri": "https://localhost:8080/"
        },
        "id": "RgmTd0Y3WWv0",
        "outputId": "133e859c-92ff-4f6b-b00b-db7e92735844"
      },
      "execution_count": 4,
      "outputs": [
        {
          "output_type": "stream",
          "name": "stdout",
          "text": [
            "39000\n"
          ]
        }
      ]
    },
    {
      "cell_type": "code",
      "source": [
        "#MINI CHALLENGE 3\n",
        "def doubleStockPrice(stockPrice):\n",
        "    return ((stockPrice*2)+100)\n",
        "\n",
        "portfolio_df['total value']=portfolio_df['Number Of Shares']*portfolio_df['Price Per Share'].apply(doubleStockPrice)\n",
        "print(portfolio_df)\n",
        "print(portfolio_df['total value'].sum())"
      ],
      "metadata": {
        "colab": {
          "base_uri": "https://localhost:8080/"
        },
        "id": "BWz6MTvCW5QL",
        "outputId": "5969abe9-2328-435c-868e-7353ae2fe3dc"
      },
      "execution_count": 5,
      "outputs": [
        {
          "output_type": "stream",
          "name": "stdout",
          "text": [
            "  Stock Symbols  Number Of Shares  Price Per Share  total value\n",
            "0         Tesla               200              883       373200\n",
            "1         Apple               100              169        43800\n",
            "2          Meta               125              178        57000\n",
            "474000\n"
          ]
        }
      ]
    },
    {
      "cell_type": "code",
      "source": [
        "#MINI CHALLENGE 4\n",
        "import pandas as pd\n",
        "bank_client_df = pd.DataFrame({'Bank client ID':[111, 222, 333, 444], \n",
        "                               'Bank Client Name':['Sid', 'Sanjeev', 'Neha', 'Sreeja'], \n",
        "                               'Net worth [Rs]':[3500, 29000, 10000, 2000], \n",
        "                               'Years with bank':[3, 4, 9, 5]})\n",
        "bank_client_df.sort_values(by = 'Net worth [Rs]', inplace = True) \n",
        "print(bank_client_df)"
      ],
      "metadata": {
        "colab": {
          "base_uri": "https://localhost:8080/"
        },
        "id": "pxoBxfVUWPzZ",
        "outputId": "c15bc1ed-4f12-46b9-8a0a-f6e2cc0b9b2b"
      },
      "execution_count": 6,
      "outputs": [
        {
          "output_type": "stream",
          "name": "stdout",
          "text": [
            "   Bank client ID Bank Client Name  Net worth [Rs]  Years with bank\n",
            "3             444           Sreeja            2000                5\n",
            "0             111              Sid            3500                3\n",
            "2             333             Neha           10000                9\n",
            "1             222          Sanjeev           29000                4\n"
          ]
        }
      ]
    },
    {
      "cell_type": "code",
      "source": [
        "#MINI CHALLENGE 5\n",
        "raw_data = {\n",
        "        'Bank Client ID': [1, 2, 3, 4, 5],\n",
        "        'First Name': ['Smith', 'Johnson', 'Williams', 'Brown', 'Jones'], \n",
        "        'Last Name': ['John', 'Michael', 'James', 'Robert', 'David'],\n",
        "        'Annual Salary': [25000, 35000, 45000, 48000, 49000]}\n",
        "allAccountDetails = pd.DataFrame(raw_data, columns = ['Bank Client ID', 'First Name', 'Last Name','Annual Salary'])\n",
        "myAccount = pd.DataFrame({'Bank Client ID':[6],'First Name':[\"Mohan\"],'Last Name':[\"Dongara\"],'Annual Salary':[450000]})\n",
        "allDetails = pd.concat([allAccountDetails, myAccount])\n",
        "allDetails"
      ],
      "metadata": {
        "colab": {
          "base_uri": "https://localhost:8080/",
          "height": 237
        },
        "id": "1twUBXmrWemx",
        "outputId": "6c9dbfb4-8972-41cc-a8b4-a028a399e14a"
      },
      "execution_count": 7,
      "outputs": [
        {
          "output_type": "execute_result",
          "data": {
            "text/plain": [
              "   Bank Client ID First Name Last Name  Annual Salary\n",
              "0               1      Smith      John          25000\n",
              "1               2    Johnson   Michael          35000\n",
              "2               3   Williams     James          45000\n",
              "3               4      Brown    Robert          48000\n",
              "4               5      Jones     David          49000\n",
              "0               6      Mohan   Dongara         450000"
            ],
            "text/html": [
              "\n",
              "  <div id=\"df-152f986e-397b-40fc-bb1b-7f9b98979e37\">\n",
              "    <div class=\"colab-df-container\">\n",
              "      <div>\n",
              "<style scoped>\n",
              "    .dataframe tbody tr th:only-of-type {\n",
              "        vertical-align: middle;\n",
              "    }\n",
              "\n",
              "    .dataframe tbody tr th {\n",
              "        vertical-align: top;\n",
              "    }\n",
              "\n",
              "    .dataframe thead th {\n",
              "        text-align: right;\n",
              "    }\n",
              "</style>\n",
              "<table border=\"1\" class=\"dataframe\">\n",
              "  <thead>\n",
              "    <tr style=\"text-align: right;\">\n",
              "      <th></th>\n",
              "      <th>Bank Client ID</th>\n",
              "      <th>First Name</th>\n",
              "      <th>Last Name</th>\n",
              "      <th>Annual Salary</th>\n",
              "    </tr>\n",
              "  </thead>\n",
              "  <tbody>\n",
              "    <tr>\n",
              "      <th>0</th>\n",
              "      <td>1</td>\n",
              "      <td>Smith</td>\n",
              "      <td>John</td>\n",
              "      <td>25000</td>\n",
              "    </tr>\n",
              "    <tr>\n",
              "      <th>1</th>\n",
              "      <td>2</td>\n",
              "      <td>Johnson</td>\n",
              "      <td>Michael</td>\n",
              "      <td>35000</td>\n",
              "    </tr>\n",
              "    <tr>\n",
              "      <th>2</th>\n",
              "      <td>3</td>\n",
              "      <td>Williams</td>\n",
              "      <td>James</td>\n",
              "      <td>45000</td>\n",
              "    </tr>\n",
              "    <tr>\n",
              "      <th>3</th>\n",
              "      <td>4</td>\n",
              "      <td>Brown</td>\n",
              "      <td>Robert</td>\n",
              "      <td>48000</td>\n",
              "    </tr>\n",
              "    <tr>\n",
              "      <th>4</th>\n",
              "      <td>5</td>\n",
              "      <td>Jones</td>\n",
              "      <td>David</td>\n",
              "      <td>49000</td>\n",
              "    </tr>\n",
              "    <tr>\n",
              "      <th>0</th>\n",
              "      <td>6</td>\n",
              "      <td>Mohan</td>\n",
              "      <td>Dongara</td>\n",
              "      <td>450000</td>\n",
              "    </tr>\n",
              "  </tbody>\n",
              "</table>\n",
              "</div>\n",
              "      <button class=\"colab-df-convert\" onclick=\"convertToInteractive('df-152f986e-397b-40fc-bb1b-7f9b98979e37')\"\n",
              "              title=\"Convert this dataframe to an interactive table.\"\n",
              "              style=\"display:none;\">\n",
              "        \n",
              "  <svg xmlns=\"http://www.w3.org/2000/svg\" height=\"24px\"viewBox=\"0 0 24 24\"\n",
              "       width=\"24px\">\n",
              "    <path d=\"M0 0h24v24H0V0z\" fill=\"none\"/>\n",
              "    <path d=\"M18.56 5.44l.94 2.06.94-2.06 2.06-.94-2.06-.94-.94-2.06-.94 2.06-2.06.94zm-11 1L8.5 8.5l.94-2.06 2.06-.94-2.06-.94L8.5 2.5l-.94 2.06-2.06.94zm10 10l.94 2.06.94-2.06 2.06-.94-2.06-.94-.94-2.06-.94 2.06-2.06.94z\"/><path d=\"M17.41 7.96l-1.37-1.37c-.4-.4-.92-.59-1.43-.59-.52 0-1.04.2-1.43.59L10.3 9.45l-7.72 7.72c-.78.78-.78 2.05 0 2.83L4 21.41c.39.39.9.59 1.41.59.51 0 1.02-.2 1.41-.59l7.78-7.78 2.81-2.81c.8-.78.8-2.07 0-2.86zM5.41 20L4 18.59l7.72-7.72 1.47 1.35L5.41 20z\"/>\n",
              "  </svg>\n",
              "      </button>\n",
              "      \n",
              "  <style>\n",
              "    .colab-df-container {\n",
              "      display:flex;\n",
              "      flex-wrap:wrap;\n",
              "      gap: 12px;\n",
              "    }\n",
              "\n",
              "    .colab-df-convert {\n",
              "      background-color: #E8F0FE;\n",
              "      border: none;\n",
              "      border-radius: 50%;\n",
              "      cursor: pointer;\n",
              "      display: none;\n",
              "      fill: #1967D2;\n",
              "      height: 32px;\n",
              "      padding: 0 0 0 0;\n",
              "      width: 32px;\n",
              "    }\n",
              "\n",
              "    .colab-df-convert:hover {\n",
              "      background-color: #E2EBFA;\n",
              "      box-shadow: 0px 1px 2px rgba(60, 64, 67, 0.3), 0px 1px 3px 1px rgba(60, 64, 67, 0.15);\n",
              "      fill: #174EA6;\n",
              "    }\n",
              "\n",
              "    [theme=dark] .colab-df-convert {\n",
              "      background-color: #3B4455;\n",
              "      fill: #D2E3FC;\n",
              "    }\n",
              "\n",
              "    [theme=dark] .colab-df-convert:hover {\n",
              "      background-color: #434B5C;\n",
              "      box-shadow: 0px 1px 3px 1px rgba(0, 0, 0, 0.15);\n",
              "      filter: drop-shadow(0px 1px 2px rgba(0, 0, 0, 0.3));\n",
              "      fill: #FFFFFF;\n",
              "    }\n",
              "  </style>\n",
              "\n",
              "      <script>\n",
              "        const buttonEl =\n",
              "          document.querySelector('#df-152f986e-397b-40fc-bb1b-7f9b98979e37 button.colab-df-convert');\n",
              "        buttonEl.style.display =\n",
              "          google.colab.kernel.accessAllowed ? 'block' : 'none';\n",
              "\n",
              "        async function convertToInteractive(key) {\n",
              "          const element = document.querySelector('#df-152f986e-397b-40fc-bb1b-7f9b98979e37');\n",
              "          const dataTable =\n",
              "            await google.colab.kernel.invokeFunction('convertToInteractive',\n",
              "                                                     [key], {});\n",
              "          if (!dataTable) return;\n",
              "\n",
              "          const docLinkHtml = 'Like what you see? Visit the ' +\n",
              "            '<a target=\"_blank\" href=https://colab.research.google.com/notebooks/data_table.ipynb>data table notebook</a>'\n",
              "            + ' to learn more about interactive tables.';\n",
              "          element.innerHTML = '';\n",
              "          dataTable['output_type'] = 'display_data';\n",
              "          await google.colab.output.renderOutput(dataTable, element);\n",
              "          const docLink = document.createElement('div');\n",
              "          docLink.innerHTML = docLinkHtml;\n",
              "          element.appendChild(docLink);\n",
              "        }\n",
              "      </script>\n",
              "    </div>\n",
              "  </div>\n",
              "  "
            ]
          },
          "metadata": {},
          "execution_count": 7
        }
      ]
    }
  ]
}